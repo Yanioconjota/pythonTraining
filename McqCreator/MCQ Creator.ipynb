{
 "cells": [
  {
   "cell_type": "markdown",
   "id": "b3716f98",
   "metadata": {},
   "source": [
    "<h1 style=\"text-align: center;\">MCQ Creator App</h1>"
   ]
  },
  {
   "cell_type": "markdown",
   "id": "4af634de",
   "metadata": {},
   "source": [
    "## Table of Contents\n",
    "* #### Install & Import Dependencies\n",
    "* #### Load Documents\n",
    "* #### Transformer Documents\n",
    "* #### Generate Text Embeddings\n",
    "* #### Vector store - PINECONE\n",
    "* #### Retrieve Answers\n",
    "* #### Structure the Output"
   ]
  },
  {
   "cell_type": "markdown",
   "id": "115eb804",
   "metadata": {},
   "source": [
    "![mcq_langchain.PNG](mcq_langchain.PNG)"
   ]
  },
  {
   "cell_type": "markdown",
   "id": "e4f3323b",
   "metadata": {},
   "source": [
    "## Install Libraries"
   ]
  },
  {
   "cell_type": "code",
   "execution_count": 8,
   "id": "c3e48a77",
   "metadata": {},
   "outputs": [
    {
     "name": "stdout",
     "output_type": "stream",
     "text": [
      "Collecting sentence-transformers==2.5.1\n",
      "  Downloading sentence_transformers-2.5.1-py3-none-any.whl.metadata (11 kB)\n",
      "Requirement already satisfied: transformers<5.0.0,>=4.32.0 in c:\\users\\janio\\anaconda3\\lib\\site-packages (from sentence-transformers==2.5.1) (4.38.2)\n",
      "Requirement already satisfied: tqdm in c:\\users\\janio\\anaconda3\\lib\\site-packages (from sentence-transformers==2.5.1) (4.65.0)\n",
      "Requirement already satisfied: torch>=1.11.0 in c:\\users\\janio\\anaconda3\\lib\\site-packages (from sentence-transformers==2.5.1) (2.2.1)\n",
      "Requirement already satisfied: numpy in c:\\users\\janio\\anaconda3\\lib\\site-packages (from sentence-transformers==2.5.1) (1.26.4)\n",
      "Requirement already satisfied: scikit-learn in c:\\users\\janio\\anaconda3\\lib\\site-packages (from sentence-transformers==2.5.1) (1.2.2)\n",
      "Requirement already satisfied: scipy in c:\\users\\janio\\anaconda3\\lib\\site-packages (from sentence-transformers==2.5.1) (1.11.4)\n",
      "Requirement already satisfied: huggingface-hub>=0.15.1 in c:\\users\\janio\\anaconda3\\lib\\site-packages (from sentence-transformers==2.5.1) (0.21.4)\n",
      "Requirement already satisfied: Pillow in c:\\users\\janio\\anaconda3\\lib\\site-packages (from sentence-transformers==2.5.1) (10.2.0)\n",
      "Requirement already satisfied: filelock in c:\\users\\janio\\anaconda3\\lib\\site-packages (from huggingface-hub>=0.15.1->sentence-transformers==2.5.1) (3.13.1)\n",
      "Requirement already satisfied: fsspec>=2023.5.0 in c:\\users\\janio\\anaconda3\\lib\\site-packages (from huggingface-hub>=0.15.1->sentence-transformers==2.5.1) (2023.10.0)\n",
      "Requirement already satisfied: requests in c:\\users\\janio\\anaconda3\\lib\\site-packages (from huggingface-hub>=0.15.1->sentence-transformers==2.5.1) (2.31.0)\n",
      "Requirement already satisfied: pyyaml>=5.1 in c:\\users\\janio\\anaconda3\\lib\\site-packages (from huggingface-hub>=0.15.1->sentence-transformers==2.5.1) (6.0.1)\n",
      "Requirement already satisfied: typing-extensions>=3.7.4.3 in c:\\users\\janio\\anaconda3\\lib\\site-packages (from huggingface-hub>=0.15.1->sentence-transformers==2.5.1) (4.9.0)\n",
      "Requirement already satisfied: packaging>=20.9 in c:\\users\\janio\\anaconda3\\lib\\site-packages (from huggingface-hub>=0.15.1->sentence-transformers==2.5.1) (23.2)\n",
      "Requirement already satisfied: sympy in c:\\users\\janio\\anaconda3\\lib\\site-packages (from torch>=1.11.0->sentence-transformers==2.5.1) (1.12)\n",
      "Requirement already satisfied: networkx in c:\\users\\janio\\anaconda3\\lib\\site-packages (from torch>=1.11.0->sentence-transformers==2.5.1) (3.1)\n",
      "Requirement already satisfied: jinja2 in c:\\users\\janio\\anaconda3\\lib\\site-packages (from torch>=1.11.0->sentence-transformers==2.5.1) (3.1.3)\n",
      "Requirement already satisfied: colorama in c:\\users\\janio\\anaconda3\\lib\\site-packages (from tqdm->sentence-transformers==2.5.1) (0.4.6)\n",
      "Requirement already satisfied: regex!=2019.12.17 in c:\\users\\janio\\anaconda3\\lib\\site-packages (from transformers<5.0.0,>=4.32.0->sentence-transformers==2.5.1) (2023.10.3)\n",
      "Requirement already satisfied: tokenizers<0.19,>=0.14 in c:\\users\\janio\\anaconda3\\lib\\site-packages (from transformers<5.0.0,>=4.32.0->sentence-transformers==2.5.1) (0.15.2)\n",
      "Requirement already satisfied: safetensors>=0.4.1 in c:\\users\\janio\\anaconda3\\lib\\site-packages (from transformers<5.0.0,>=4.32.0->sentence-transformers==2.5.1) (0.4.2)\n",
      "Requirement already satisfied: joblib>=1.1.1 in c:\\users\\janio\\anaconda3\\lib\\site-packages (from scikit-learn->sentence-transformers==2.5.1) (1.2.0)\n",
      "Requirement already satisfied: threadpoolctl>=2.0.0 in c:\\users\\janio\\anaconda3\\lib\\site-packages (from scikit-learn->sentence-transformers==2.5.1) (2.2.0)\n",
      "Requirement already satisfied: MarkupSafe>=2.0 in c:\\users\\janio\\anaconda3\\lib\\site-packages (from jinja2->torch>=1.11.0->sentence-transformers==2.5.1) (2.1.3)\n",
      "Requirement already satisfied: charset-normalizer<4,>=2 in c:\\users\\janio\\anaconda3\\lib\\site-packages (from requests->huggingface-hub>=0.15.1->sentence-transformers==2.5.1) (2.0.4)\n",
      "Requirement already satisfied: idna<4,>=2.5 in c:\\users\\janio\\anaconda3\\lib\\site-packages (from requests->huggingface-hub>=0.15.1->sentence-transformers==2.5.1) (3.4)\n",
      "Requirement already satisfied: urllib3<3,>=1.21.1 in c:\\users\\janio\\anaconda3\\lib\\site-packages (from requests->huggingface-hub>=0.15.1->sentence-transformers==2.5.1) (2.0.7)\n",
      "Requirement already satisfied: certifi>=2017.4.17 in c:\\users\\janio\\anaconda3\\lib\\site-packages (from requests->huggingface-hub>=0.15.1->sentence-transformers==2.5.1) (2024.2.2)\n",
      "Requirement already satisfied: mpmath>=0.19 in c:\\users\\janio\\anaconda3\\lib\\site-packages (from sympy->torch>=1.11.0->sentence-transformers==2.5.1) (1.3.0)\n",
      "Downloading sentence_transformers-2.5.1-py3-none-any.whl (156 kB)\n",
      "   ---------------------------------------- 0.0/156.5 kB ? eta -:--:--\n",
      "   ------- ------------------------------- 30.7/156.5 kB 660.6 kB/s eta 0:00:01\n",
      "   ---------------------------------------- 156.5/156.5 kB 3.1 MB/s eta 0:00:00\n",
      "Installing collected packages: sentence-transformers\n",
      "Successfully installed sentence-transformers-2.5.1\n",
      "Note: you may need to restart the kernel to use updated packages.\n"
     ]
    }
   ],
   "source": [
    "#Please install the package as per your requirement :)\n",
    "#!pip install openai==1.14.2\n",
    "#!pip install langchain==0.1.13\n",
    "#!pip install unstructured==0.12.3\n",
    "#!pip install tiktoken==0.5.2\n",
    "#%pip install pinecone-client==3.2.0\n",
    "#%pip install pypdf==4.1.0\n",
    "#%pip install sentence-transformers==2.5.1"
   ]
  },
  {
   "cell_type": "markdown",
   "id": "0348a82f",
   "metadata": {},
   "source": [
    "## Import Dependencies"
   ]
  },
  {
   "cell_type": "code",
   "execution_count": 3,
   "id": "8b382dd0",
   "metadata": {},
   "outputs": [],
   "source": [
    "import openai\n",
    "\n",
    "import pinecone\n",
    "from langchain.document_loaders import PyPDFDirectoryLoader\n",
    "from langchain.text_splitter import RecursiveCharacterTextSplitter\n",
    "from langchain.embeddings.openai import OpenAIEmbeddings\n",
    "from langchain.vectorstores import Pinecone #this below has been replaced by the below import\n",
    "from langchain_community.vectorstores import Pinecone #Importing Pinecone class, specifically using the alias PineconeStore for convenience.\n",
    "#from langchain.llms import OpenAI  #this below has been replaced by the below import\n",
    "from langchain_openai import OpenAI\n",
    "from langchain.embeddings.sentence_transformer import SentenceTransformerEmbeddings"
   ]
  },
  {
   "cell_type": "markdown",
   "id": "99bb6019",
   "metadata": {},
   "source": [
    "<font color='green'>\n",
    "The code sets environment variables for accessing OpenAI API and Hugging Face Hub API using respective API keys<font>"
   ]
  },
  {
   "cell_type": "code",
   "execution_count": 4,
   "id": "7e40e7b3",
   "metadata": {},
   "outputs": [],
   "source": [
    "import os\n",
    "os.environ[\"OPENAI_API_KEY\"] = \"sk-xxxxxxxxxxxxxxxxxxxxxxxxxx\"\n",
    "os.environ[\"HUGGINGFACEHUB_API_TOKEN\"] = \"hf_xxxxxxxxxxxxxxxxxxxxxxxxxx\""
   ]
  },
  {
   "cell_type": "markdown",
   "id": "0c1fc352",
   "metadata": {},
   "source": [
    "## Load Documents"
   ]
  },
  {
   "cell_type": "markdown",
   "id": "3b5e5fd9",
   "metadata": {},
   "source": [
    "<font color='green'>\n",
    "Loads PDF files available in a directory with pypdf<font>"
   ]
  },
  {
   "cell_type": "code",
   "execution_count": 5,
   "id": "2ffc8399",
   "metadata": {},
   "outputs": [],
   "source": [
    "#Function to read documents\n",
    "def load_docs(directory):\n",
    "  loader = PyPDFDirectoryLoader(directory)\n",
    "  documents = loader.load()\n",
    "  return documents"
   ]
  },
  {
   "cell_type": "code",
   "execution_count": 9,
   "id": "89d28269",
   "metadata": {},
   "outputs": [
    {
     "data": {
      "text/plain": [
       "3"
      ]
     },
     "execution_count": 9,
     "metadata": {},
     "output_type": "execute_result"
    }
   ],
   "source": [
    "# Passing the directory to the 'load_docs' function\n",
    "directory = 'Docs/'\n",
    "documents = load_docs(directory)\n",
    "len(documents)"
   ]
  },
  {
   "cell_type": "code",
   "execution_count": 6,
   "id": "28b7fc73",
   "metadata": {},
   "outputs": [
    {
     "data": {
      "text/plain": [
       "[Document(page_content=\"India, officially known as the Republic of India, is a diverse and vibrant country located in South\\nAsia. With a rich history spanning thousands of years, India is known for its cultural heritage, \\nreligious diversity, and vast landscapes. From the majestic Himalayas in the north to the serene\\nbackwaters of Kerala in the south, India encompasses a wide range of geographical features, \\nincluding deserts, plains, mountains, and coastlines, making it a land of incredible natural \\nbeauty.\\nIndia is the seventh-largest country by land area and the second-most populous country in the \\nworld, with a population exceeding 1.3 billion people. It is a federal parliamentary democratic \\nrepublic, with a president as the head of state and a prime minister as the head of government. \\nThe country follows a multi-tiered administrative structure, with 28 states and 9 union territories,\\neach having its own elected government.\\nIndia has a rich cultural heritage that has evolved over thousands of years. It is home to various\\nreligions, including Hinduism, Islam, Christianity, Sikhism, Buddhism, and Jainism, among \\nothers. These religions coexist harmoniously, contributing to India's multicultural fabric. \\nFestivals like Diwali, Eid, Christmas, and Holi are celebrated with great enthusiasm and bring \\npeople from different communities together.\\nThe history of India is characterized by ancient civilizations, invasions, and the establishment of\\npowerful empires. The Indus Valley Civilization, one of the world's oldest urban civilizations, \\nflourished in the northwestern part of the Indian subcontinent around 2500 BCE. Over the \\ncenturies, India witnessed the rise and fall of several dynasties, including the Maurya, Gupta, \\nand Mughal empires. The Mughal period, in particular, left a lasting impact on Indian culture, \\nart, and architecture.\\nIndia's struggle for independence from British colonial rule is a significant chapter in its history. \\nLed by Mahatma Gandhi and other freedom fighters, the non-violent resistance movement \\ngained momentum and eventually led to India's independence on August 15, 1947. This day is \\ncelebrated annually as Independence Day.\\nIndia's economy is one of the fastest-growing in the world. It has transitioned from an agrarian \\neconomy to a service-oriented and industrialized economy. The country is known for its \\nsoftware and information technology services, pharmaceuticals, textiles, agriculture, and \\nmanufacturing sectors. Major cities like Mumbai, Delhi, Bangalore, and Chennai are hubs of \\nbusiness and commerce, attracting investments and fostering innovation.\\nDelhi is the capital of India\", metadata={'source': 'Docs\\\\Doc 1.pdf', 'page': 0}),\n",
       " Document(page_content=\"However, India also faces various socio-economic challenges. Poverty, income inequality, and \\nunemployment are persistent issues that the country strives to address. Efforts are being made\\nto improve education, healthcare, infrastructure, and social welfare programs to uplift \\nmarginalized sections of society.\\nEducation plays a vital role in India, with a strong emphasis on academic excellence. The \\ncountry has a vast network of schools, colleges, and universities, producing a large number of \\ngraduates every year. Indian professionals have made significant contributions in various fields \\nglobally, particularly in science, technology, engineering, and mathematics (STEM).\\nThe Indian film industry, popularly known as Bollywood, is a global phenomenon, producing the\\nlargest number of films annually. Indian cinema reflects the diversity and cultural richness of \\nthe country and has a massive following both within India and among the Indian diaspora \\nworldwide.\\nIndian cuisine is renowned for its flavors, spices, and regional specialties. Each state has its \\nown culinary traditions, offering a wide range of vegetarian and non-vegetarian dishes. Indian \\nfood has gained international popularity, with dishes like curry, biryani, dosa, and tandoori \\nbeing enjoyed by people worldwide.\\nThe Indian rupee is the official currency in the Republic of India. The rupee is subdivided into \\n100 paise. The issuance of the currency is controlled by the Reserve Bank of India.\\n₹ The Indian rupee sign ( ) is the currency symbol for the Indian rupee the official currency of \\nIndia\\nTourism is a significant contributor to India's economy. The country attracts millions of visitors \\neach year who come to explore its historical sites, architectural wonders, wildlife sanctuaries, \\nand scenic landscapes. Iconic landmarks such as the Taj Mahal, Jaipur's palaces, Kerala's \\nbackwaters, and the beaches of Goa are popular tourist destinations.\\nIndia's cultural heritage is preserved in its ancient monuments and UNESCO World Heritage \\nSites. From the intricate carvings of Khajuraho temples to the majestic forts of Rajasthan, these\\narchitectural marvels reflect India's rich history and artistic traditions.\\nIndia's diversity extends to its languages as well. While Hindi and English are the official \\nlanguages at the national level, there are 22 officially recognized regional languages, including \\nBengali, Tamil, Telugu, Marathi, Urdu, Punjabi, and Gujarati, among others. This linguistic \\ndiversity is a testament to India's multicultural ethos.\\nIn recent years, India has made significant strides in space exploration. The Indian Space \\nResearch Organization (ISRO) has successfully launched satellites and missions, including the\\nMars Orbiter Mission (MOM), also known as Mangalyaan. These achievements have placed \\nIndia among the elite group of nations with advanced space programs.\", metadata={'source': 'Docs\\\\Doc 2.pdf', 'page': 0}),\n",
       " Document(page_content=\"India's diplomatic influence is also growing on the global stage. The country actively \\nparticipates in international forums and has strong bilateral relations with nations around the \\nworld. India is a founding member of the Non-Aligned Movement and plays an active role in \\nvarious international organizations, such as the United Nations and World Trade Organization.\\nIn conclusion, India is a vast and diverse country with a rich cultural heritage, stunning \\nlandscapes, and a rapidly growing economy. It is a nation where ancient traditions coexist with \\nmodern aspirations. Despite its challenges, India continues to evolve and leave an indelible \\nmark on the world, making it a fascinating and dynamic country to explore.\", metadata={'source': 'Docs\\\\Doc 2.pdf', 'page': 1})]"
      ]
     },
     "execution_count": 6,
     "metadata": {},
     "output_type": "execute_result"
    }
   ],
   "source": [
    "documents"
   ]
  },
  {
   "cell_type": "markdown",
   "id": "fee4770d",
   "metadata": {},
   "source": [
    "## Transform Documents"
   ]
  },
  {
   "cell_type": "markdown",
   "id": "79688cbe",
   "metadata": {},
   "source": [
    "<font color='green'>\n",
    "Split document Into Smaller Chunks<font>"
   ]
  },
  {
   "attachments": {
    "6302455.png": {
     "image/png": "[encoded data removed]"
    }
   },
   "cell_type": "markdown",
   "id": "5e487274",
   "metadata": {},
   "source": [
    "![6302455.png](attachment:6302455.png)"
   ]
  },
  {
   "cell_type": "code",
   "execution_count": 10,
   "id": "63503325",
   "metadata": {},
   "outputs": [],
   "source": [
    "#This function will split the documents into chunks\n",
    "def split_docs(documents, chunk_size=1000, chunk_overlap=20):\n",
    "  text_splitter = RecursiveCharacterTextSplitter(chunk_size=chunk_size, chunk_overlap=chunk_overlap)\n",
    "  docs = text_splitter.split_documents(documents)\n",
    "  return docs"
   ]
  },
  {
   "cell_type": "code",
   "execution_count": 11,
   "id": "d8a00b05",
   "metadata": {},
   "outputs": [
    {
     "name": "stdout",
     "output_type": "stream",
     "text": [
      "7\n"
     ]
    }
   ],
   "source": [
    "docs = split_docs(documents)\n",
    "print(len(docs))"
   ]
  },
  {
   "cell_type": "markdown",
   "id": "25244e9c",
   "metadata": {},
   "source": [
    "## Generate Text Embeddings"
   ]
  },
  {
   "cell_type": "markdown",
   "id": "8f59d133",
   "metadata": {},
   "source": [
    "<font color='green'>\n",
    "OpenAI LLM for creating Embeddings for documents/Text<font>"
   ]
  },
  {
   "cell_type": "code",
   "execution_count": 9,
   "id": "3268ec68",
   "metadata": {},
   "outputs": [],
   "source": [
    "#embeddings = OpenAIEmbeddings(model_name=\"ada\")"
   ]
  },
  {
   "cell_type": "markdown",
   "id": "42fe08aa",
   "metadata": {},
   "source": [
    "<font color='green'>\n",
    "Hugging Face LLM for creating Embeddings for documents/Text<font>"
   ]
  },
  {
   "cell_type": "code",
   "execution_count": 12,
   "id": "60744d3f",
   "metadata": {},
   "outputs": [
    {
     "data": {
      "application/vnd.jupyter.widget-view+json": {
       "model_id": "e947116a1d324114866151ef32bc1d86",
       "version_major": 2,
       "version_minor": 0
      },
      "text/plain": [
       "modules.json:   0%|          | 0.00/349 [00:00<?, ?B/s]"
      ]
     },
     "metadata": {},
     "output_type": "display_data"
    },
    {
     "name": "stderr",
     "output_type": "stream",
     "text": [
      "c:\\Users\\janio\\anaconda3\\Lib\\site-packages\\huggingface_hub\\file_download.py:149: UserWarning: `huggingface_hub` cache-system uses symlinks by default to efficiently store duplicated files but your machine does not support them in C:\\Users\\janio\\.cache\\huggingface\\hub\\models--sentence-transformers--all-MiniLM-L6-v2. Caching files will still work but in a degraded version that might require more space on your disk. This warning can be disabled by setting the `HF_HUB_DISABLE_SYMLINKS_WARNING` environment variable. For more details, see https://huggingface.co/docs/huggingface_hub/how-to-cache#limitations.\n",
      "To support symlinks on Windows, you either need to activate Developer Mode or to run Python as an administrator. In order to see activate developer mode, see this article: https://docs.microsoft.com/en-us/windows/apps/get-started/enable-your-device-for-development\n",
      "  warnings.warn(message)\n"
     ]
    },
    {
     "data": {
      "application/vnd.jupyter.widget-view+json": {
       "model_id": "0465c3735ab1402d8166ae02a65c359d",
       "version_major": 2,
       "version_minor": 0
      },
      "text/plain": [
       "config_sentence_transformers.json:   0%|          | 0.00/116 [00:00<?, ?B/s]"
      ]
     },
     "metadata": {},
     "output_type": "display_data"
    },
    {
     "data": {
      "application/vnd.jupyter.widget-view+json": {
       "model_id": "bd9e4b4c1956431796b868da55650e25",
       "version_major": 2,
       "version_minor": 0
      },
      "text/plain": [
       "README.md:   0%|          | 0.00/10.7k [00:00<?, ?B/s]"
      ]
     },
     "metadata": {},
     "output_type": "display_data"
    },
    {
     "data": {
      "application/vnd.jupyter.widget-view+json": {
       "model_id": "d64e66ae5a18426ca71136616abf12ce",
       "version_major": 2,
       "version_minor": 0
      },
      "text/plain": [
       "sentence_bert_config.json:   0%|          | 0.00/53.0 [00:00<?, ?B/s]"
      ]
     },
     "metadata": {},
     "output_type": "display_data"
    },
    {
     "data": {
      "application/vnd.jupyter.widget-view+json": {
       "model_id": "07a0d9ad871345878b7f64f62a8f401c",
       "version_major": 2,
       "version_minor": 0
      },
      "text/plain": [
       "config.json:   0%|          | 0.00/612 [00:00<?, ?B/s]"
      ]
     },
     "metadata": {},
     "output_type": "display_data"
    },
    {
     "data": {
      "application/vnd.jupyter.widget-view+json": {
       "model_id": "8d6773ac42c742ad9730318afc23e77b",
       "version_major": 2,
       "version_minor": 0
      },
      "text/plain": [
       "model.safetensors:   0%|          | 0.00/90.9M [00:00<?, ?B/s]"
      ]
     },
     "metadata": {},
     "output_type": "display_data"
    },
    {
     "data": {
      "application/vnd.jupyter.widget-view+json": {
       "model_id": "025ced7956e7477081a20a82078c742a",
       "version_major": 2,
       "version_minor": 0
      },
      "text/plain": [
       "tokenizer_config.json:   0%|          | 0.00/350 [00:00<?, ?B/s]"
      ]
     },
     "metadata": {},
     "output_type": "display_data"
    },
    {
     "data": {
      "application/vnd.jupyter.widget-view+json": {
       "model_id": "88b20aa13ccc4ae3bb4c4680fc7c70ee",
       "version_major": 2,
       "version_minor": 0
      },
      "text/plain": [
       "vocab.txt:   0%|          | 0.00/232k [00:00<?, ?B/s]"
      ]
     },
     "metadata": {},
     "output_type": "display_data"
    },
    {
     "data": {
      "application/vnd.jupyter.widget-view+json": {
       "model_id": "f84067ba2d3344dca676a24abdbe3c9d",
       "version_major": 2,
       "version_minor": 0
      },
      "text/plain": [
       "tokenizer.json:   0%|          | 0.00/466k [00:00<?, ?B/s]"
      ]
     },
     "metadata": {},
     "output_type": "display_data"
    },
    {
     "data": {
      "application/vnd.jupyter.widget-view+json": {
       "model_id": "c2f0319f92f54d21b56ffbac3f5169f4",
       "version_major": 2,
       "version_minor": 0
      },
      "text/plain": [
       "special_tokens_map.json:   0%|          | 0.00/112 [00:00<?, ?B/s]"
      ]
     },
     "metadata": {},
     "output_type": "display_data"
    },
    {
     "data": {
      "application/vnd.jupyter.widget-view+json": {
       "model_id": "6725c394d1b44b34abbfd03ad259a8fa",
       "version_major": 2,
       "version_minor": 0
      },
      "text/plain": [
       "1_Pooling/config.json:   0%|          | 0.00/190 [00:00<?, ?B/s]"
      ]
     },
     "metadata": {},
     "output_type": "display_data"
    }
   ],
   "source": [
    "embeddings = SentenceTransformerEmbeddings(model_name=\"all-MiniLM-L6-v2\")"
   ]
  },
  {
   "cell_type": "markdown",
   "id": "29ce78a6",
   "metadata": {},
   "source": [
    "<font color='green'>\n",
    "Let's test our Embeddings model for a sample text<font>"
   ]
  },
  {
   "cell_type": "code",
   "execution_count": 13,
   "id": "38387cb0",
   "metadata": {},
   "outputs": [
    {
     "data": {
      "text/plain": [
       "384"
      ]
     },
     "execution_count": 13,
     "metadata": {},
     "output_type": "execute_result"
    }
   ],
   "source": [
    "query_result = embeddings.embed_query(\"Hello Buddy\")\n",
    "len(query_result)"
   ]
  },
  {
   "cell_type": "code",
   "execution_count": 14,
   "id": "26ca5583",
   "metadata": {},
   "outputs": [
    {
     "data": {
      "text/plain": [
       "[-0.06978834420442581,\n",
       " 0.054206255823373795,\n",
       " 0.07814785093069077,\n",
       " 0.03390122205018997,\n",
       " 0.02494748868048191,\n",
       " -0.09673736989498138,\n",
       " 0.05952312797307968,\n",
       " 0.058978136628866196,\n",
       " -0.017896734178066254,\n",
       " -0.02317892573773861,\n",
       " -0.019000204280018806,\n",
       " 0.0005968579207547009,\n",
       " 0.02466609515249729,\n",
       " -0.07030831277370453,\n",
       " -0.007522599305957556,\n",
       " 0.010224461555480957,\n",
       " -0.011180879548192024,\n",
       " -0.02124854549765587,\n",
       " -0.03859453275799751,\n",
       " 0.026550395414233208,\n",
       " -0.06505239754915237,\n",
       " 0.0650002509355545,\n",
       " 0.009431764483451843,\n",
       " -0.06271227449178696,\n",
       " -0.023625459522008896,\n",
       " -0.030638113617897034,\n",
       " 0.059961192309856415,\n",
       " 0.07367487996816635,\n",
       " -0.032867785543203354,\n",
       " -0.02606102079153061,\n",
       " -0.006967121735215187,\n",
       " 0.030617903918027878,\n",
       " 0.059396665543317795,\n",
       " 0.001471983385272324,\n",
       " 0.012021688744425774,\n",
       " 0.028293680399656296,\n",
       " -0.059225257486104965,\n",
       " -0.07919750362634659,\n",
       " 0.048963695764541626,\n",
       " 0.02309003658592701,\n",
       " 0.055362775921821594,\n",
       " -0.026251336559653282,\n",
       " -0.01732114888727665,\n",
       " 0.005511086899787188,\n",
       " 0.05862758681178093,\n",
       " -0.02973811700940132,\n",
       " 0.0462670661509037,\n",
       " 0.044527243822813034,\n",
       " 0.037993207573890686,\n",
       " -0.03244156762957573,\n",
       " -0.032030630856752396,\n",
       " -0.07459980994462967,\n",
       " -0.0991547554731369,\n",
       " 0.05860237777233124,\n",
       " 0.09203118830919266,\n",
       " 0.0721587985754013,\n",
       " -0.047524068504571915,\n",
       " 0.008467191830277443,\n",
       " 0.008853594772517681,\n",
       " -0.0671711191534996,\n",
       " -0.056027982383966446,\n",
       " 0.012392226606607437,\n",
       " -0.07076596468687057,\n",
       " -0.07935743778944016,\n",
       " 0.025537827983498573,\n",
       " -0.028746899217367172,\n",
       " -0.06868758797645569,\n",
       " 0.02878771349787712,\n",
       " -0.037508491426706314,\n",
       " -0.039456095546483994,\n",
       " -0.045078400522470474,\n",
       " 0.0484590120613575,\n",
       " 0.01331859827041626,\n",
       " 0.021408021450042725,\n",
       " -0.05790059268474579,\n",
       " -0.008303207345306873,\n",
       " 0.031046215444803238,\n",
       " 0.07448343932628632,\n",
       " 0.02835354022681713,\n",
       " -0.01862005703151226,\n",
       " -0.04090389609336853,\n",
       " -0.07018779218196869,\n",
       " -0.008551007136702538,\n",
       " -0.012738787569105625,\n",
       " 0.02206624113023281,\n",
       " -0.04596148803830147,\n",
       " -0.00839752983301878,\n",
       " 0.014853197149932384,\n",
       " 0.0027400818653404713,\n",
       " 0.034601520746946335,\n",
       " -0.09206411242485046,\n",
       " 0.08678357303142548,\n",
       " 0.09252090007066727,\n",
       " 0.019639084115624428,\n",
       " -0.05295175313949585,\n",
       " -0.043089453130960464,\n",
       " 0.07335442304611206,\n",
       " 0.015686310827732086,\n",
       " -0.13313092291355133,\n",
       " 0.1889292299747467,\n",
       " 0.07705485075712204,\n",
       " 0.07706549763679504,\n",
       " 0.022753505036234856,\n",
       " 0.0036704926751554012,\n",
       " 0.03158929944038391,\n",
       " 0.02291223779320717,\n",
       " -0.058326948434114456,\n",
       " 0.0916619598865509,\n",
       " -0.02627428062260151,\n",
       " -0.02697327360510826,\n",
       " -0.02190723642706871,\n",
       " -0.009309380315244198,\n",
       " -0.027233431115746498,\n",
       " 0.05238280072808266,\n",
       " 0.07760737836360931,\n",
       " -0.0005197410937398672,\n",
       " -0.020680885761976242,\n",
       " 0.07939450442790985,\n",
       " -0.07065007090568542,\n",
       " -0.004898591432720423,\n",
       " -0.013677910901606083,\n",
       " 0.012933004647493362,\n",
       " -0.032109037041664124,\n",
       " 0.023536967113614082,\n",
       " 0.013630054891109467,\n",
       " -0.03841511905193329,\n",
       " 0.024055248126387596,\n",
       " -4.743711860847157e-33,\n",
       " 0.03858184441924095,\n",
       " -0.036322567611932755,\n",
       " 0.056804414838552475,\n",
       " 0.20758984982967377,\n",
       " -0.06085408478975296,\n",
       " 0.009389522485435009,\n",
       " -0.03535957634449005,\n",
       " -0.01932983286678791,\n",
       " 0.004193496890366077,\n",
       " 0.0017782874638214707,\n",
       " 0.06255529820919037,\n",
       " 0.07132022082805634,\n",
       " -0.05347534269094467,\n",
       " 0.04272282496094704,\n",
       " 0.026453493162989616,\n",
       " 0.05890120565891266,\n",
       " -0.10570614784955978,\n",
       " 0.06490795314311981,\n",
       " 0.0403943695127964,\n",
       " 0.00912976823747158,\n",
       " -0.06505541503429413,\n",
       " -0.04786786437034607,\n",
       " 0.0006099367165006697,\n",
       " 0.04792144149541855,\n",
       " 0.02253049798309803,\n",
       " 0.0002792984014376998,\n",
       " 0.04671049118041992,\n",
       " -0.08153346180915833,\n",
       " 0.02717883512377739,\n",
       " 0.04208612069487572,\n",
       " -0.05766589567065239,\n",
       " -0.02844312973320484,\n",
       " 0.02567399851977825,\n",
       " 0.03745704144239426,\n",
       " -0.01369366142898798,\n",
       " 0.005312049761414528,\n",
       " 0.06007682532072067,\n",
       " -0.06595902144908905,\n",
       " -0.08369924128055573,\n",
       " -0.03458147123456001,\n",
       " -0.0306608434766531,\n",
       " 0.04927726462483406,\n",
       " -0.01787116751074791,\n",
       " 0.008619039319455624,\n",
       " 0.039066243916749954,\n",
       " -0.02727351151406765,\n",
       " 0.01642772927880287,\n",
       " 0.01251963246613741,\n",
       " -0.010823968797922134,\n",
       " -0.006954393815249205,\n",
       " -0.028586700558662415,\n",
       " 0.040284525603055954,\n",
       " -0.05977822467684746,\n",
       " 0.0701225996017456,\n",
       " -0.0682227686047554,\n",
       " -0.03562334552407265,\n",
       " 0.03436654061079025,\n",
       " 0.0075598545372486115,\n",
       " -0.0054285298101603985,\n",
       " -0.013946530409157276,\n",
       " 0.019693762063980103,\n",
       " 0.1117667481303215,\n",
       " -0.03107788972556591,\n",
       " -0.010961037129163742,\n",
       " -0.06446174532175064,\n",
       " -0.01604570262134075,\n",
       " 0.0866411104798317,\n",
       " -0.030396485701203346,\n",
       " 0.04842616990208626,\n",
       " -0.06848317384719849,\n",
       " 0.0029434501193463802,\n",
       " 0.016993684694170952,\n",
       " 0.03442339226603508,\n",
       " -0.05967586487531662,\n",
       " 0.014415687881410122,\n",
       " 0.05336698144674301,\n",
       " -0.005778980907052755,\n",
       " -0.07200741022825241,\n",
       " 0.012998603284358978,\n",
       " -0.007748784963041544,\n",
       " 0.013700450770556927,\n",
       " 0.01135841105133295,\n",
       " -0.007765794172883034,\n",
       " -0.0378878116607666,\n",
       " 0.06661561876535416,\n",
       " 0.06453312188386917,\n",
       " 0.006028830539435148,\n",
       " -0.06192975491285324,\n",
       " -0.057016219943761826,\n",
       " -0.09005866944789886,\n",
       " -0.14298105239868164,\n",
       " 0.020345257595181465,\n",
       " 0.028676128014922142,\n",
       " 0.03246549889445305,\n",
       " -0.032605428248643875,\n",
       " 3.4405022528599356e-33,\n",
       " 0.09627878665924072,\n",
       " 0.044487226754426956,\n",
       " -0.042387183755636215,\n",
       " -0.053365424275398254,\n",
       " -0.012616918422281742,\n",
       " -0.0012779779499396682,\n",
       " -0.04644671455025673,\n",
       " 0.07411832362413406,\n",
       " -0.12352930009365082,\n",
       " -0.0071194968186318874,\n",
       " -0.008699200116097927,\n",
       " -0.0507158599793911,\n",
       " 0.08202653378248215,\n",
       " -0.010096327401697636,\n",
       " 0.044556714594364166,\n",
       " 0.0907803550362587,\n",
       " 0.06065203249454498,\n",
       " 0.03783891350030899,\n",
       " -0.01783590205013752,\n",
       " -0.022454675287008286,\n",
       " -0.06918349117040634,\n",
       " -0.016655797138810158,\n",
       " -0.026509810239076614,\n",
       " 0.025623047724366188,\n",
       " -0.060202475637197495,\n",
       " -0.009123202413320541,\n",
       " 0.00301749212667346,\n",
       " 0.0015858046244829893,\n",
       " -0.07711775600910187,\n",
       " -0.06069721281528473,\n",
       " 0.10801773518323898,\n",
       " 0.01787460222840309,\n",
       " -0.0532275028526783,\n",
       " 0.02397782914340496,\n",
       " -0.013594998978078365,\n",
       " 0.09174273163080215,\n",
       " 0.028409520164132118,\n",
       " -0.04773018881678581,\n",
       " -0.011409763246774673,\n",
       " -0.11023160070180893,\n",
       " -0.04775417968630791,\n",
       " 0.03513937070965767,\n",
       " -0.055095646530389786,\n",
       " 0.029237614944577217,\n",
       " -0.01975923962891102,\n",
       " -0.058055583387613297,\n",
       " 0.09778165817260742,\n",
       " 0.008509302511811256,\n",
       " -0.02062133140861988,\n",
       " 0.017002999782562256,\n",
       " -0.10622420907020569,\n",
       " 0.005269681103527546,\n",
       " -0.0112643176689744,\n",
       " -0.0406179204583168,\n",
       " -0.05481632053852081,\n",
       " -0.04439365118741989,\n",
       " -0.02569727785885334,\n",
       " 0.03583269566297531,\n",
       " -0.03141406178474426,\n",
       " -0.013334604911506176,\n",
       " 0.05045569688081741,\n",
       " 0.10049013048410416,\n",
       " 0.02992740273475647,\n",
       " 0.07950969785451889,\n",
       " 0.018312036991119385,\n",
       " 0.056592561304569244,\n",
       " -0.04968110844492912,\n",
       " 0.01687072403728962,\n",
       " -0.02303863875567913,\n",
       " -0.0476272851228714,\n",
       " 0.008080260828137398,\n",
       " 0.055618979036808014,\n",
       " 0.028932994231581688,\n",
       " 0.03048076294362545,\n",
       " -0.004192270338535309,\n",
       " -0.019336139783263206,\n",
       " 0.06739482283592224,\n",
       " 0.004616949241608381,\n",
       " -0.02775663323700428,\n",
       " 0.05167407914996147,\n",
       " -0.024105582386255264,\n",
       " 0.015810921788215637,\n",
       " 0.040824469178915024,\n",
       " 0.06979391723871231,\n",
       " -0.06612454354763031,\n",
       " -0.01700088009238243,\n",
       " 0.07013274729251862,\n",
       " 0.07647683471441269,\n",
       " 0.0033458999823778868,\n",
       " -0.015093865804374218,\n",
       " 0.000914384494535625,\n",
       " 0.004818743094801903,\n",
       " -0.10371105372905731,\n",
       " 0.018684756010770798,\n",
       " -0.02277357131242752,\n",
       " -1.6008881331686098e-08,\n",
       " -0.033795081079006195,\n",
       " 0.05985533446073532,\n",
       " -0.03635523095726967,\n",
       " 0.06778038293123245,\n",
       " 0.05005526915192604,\n",
       " 0.06447292119264603,\n",
       " -0.08214759826660156,\n",
       " -0.02798214741051197,\n",
       " 0.05528413876891136,\n",
       " 0.043998535722494125,\n",
       " 0.07301623374223709,\n",
       " 0.029532326385378838,\n",
       " -0.06715995818376541,\n",
       " 0.024248210713267326,\n",
       " 0.08193712681531906,\n",
       " 0.061403900384902954,\n",
       " -0.05148812755942345,\n",
       " -0.011589898727834225,\n",
       " -0.046941377222537994,\n",
       " -0.06341467052698135,\n",
       " -0.03248712420463562,\n",
       " 0.022975554689764977,\n",
       " 0.05211088806390762,\n",
       " -0.02635009028017521,\n",
       " -0.001211562193930149,\n",
       " 0.007197847589850426,\n",
       " -0.06705582141876221,\n",
       " 0.04292187839746475,\n",
       " -0.02323414571583271,\n",
       " -0.041273970156908035,\n",
       " 0.002370155183598399,\n",
       " 0.13688524067401886,\n",
       " -0.019106274470686913,\n",
       " -0.008777709677815437,\n",
       " 0.0009235807810910046,\n",
       " -0.023224961012601852,\n",
       " 0.04884276166558266,\n",
       " 0.04468473792076111,\n",
       " 0.04295489937067032,\n",
       " 0.02351202629506588,\n",
       " -0.05564112588763237,\n",
       " -0.014923281036317348,\n",
       " -0.023078538477420807,\n",
       " -0.09206114709377289,\n",
       " -0.019425079226493835,\n",
       " 0.04348472133278847,\n",
       " 0.08746946603059769,\n",
       " -0.10251270234584808,\n",
       " 0.006790027022361755,\n",
       " -0.07210741192102432,\n",
       " -0.05534238740801811,\n",
       " 0.03467104583978653,\n",
       " 0.03941783681511879,\n",
       " 0.06323448568582535,\n",
       " 0.06754036992788315,\n",
       " 0.05118654668331146,\n",
       " 0.0019086245447397232,\n",
       " 0.00015876133693382144,\n",
       " -0.05719192326068878,\n",
       " -0.023087799549102783,\n",
       " 0.04198136925697327,\n",
       " 0.08144466578960419,\n",
       " 0.020753970369696617,\n",
       " -0.005565015599131584]"
      ]
     },
     "execution_count": 14,
     "metadata": {},
     "output_type": "execute_result"
    }
   ],
   "source": [
    "query_result"
   ]
  },
  {
   "cell_type": "markdown",
   "id": "3d422eaa",
   "metadata": {},
   "source": [
    "## Vector store - PINECONE"
   ]
  },
  {
   "attachments": {
    "pinecone.png": {
     "image/png": "[encoded data removed]"
    }
   },
   "cell_type": "markdown",
   "id": "8f0a248e",
   "metadata": {},
   "source": [
    "![pinecone.png](attachment:pinecone.png)"
   ]
  },
  {
   "cell_type": "markdown",
   "id": "6d6a7621",
   "metadata": {},
   "source": [
    "<font color='green'>\n",
    "Pinecone allows for data to be uploaded into a vector database and true semantic search can be performed.<br><br> Not only is conversational data highly unstructured, but it can also be complex. Vector search and vector databases allows for similarity searches.<font>"
   ]
  },
  {
   "cell_type": "markdown",
   "id": "1c84fd4c",
   "metadata": {},
   "source": [
    "<font color='green'>\n",
    "We will initialize Pinecone and create a Pinecone index by passing our documents, embeddings model and mentioning the specific INDEX which has to be used\n",
    "    \n",
    "Vector databases are designed to handle the unique structure of vector embeddings, which are dense vectors of numbers that represent text. They are used in machine learning to capture the meaning of words and map their semantic meaning. <br><br>These databases index vectors for easy search and retrieval by comparing values and finding those that are most similar to one another, making them ideal for natural language processing and AI-driven applications.\n",
    "    <font>"
   ]
  },
  {
   "cell_type": "code",
   "execution_count": 24,
   "id": "821ddd43",
   "metadata": {},
   "outputs": [],
   "source": [
    "# Due to recent changes from Pinecone team, there are some minor changes we have to implement, as a part of this we Initialize the Pinecone client\n",
    "\n",
    "#Please update your pinecone-client package version >=3.0.1\n",
    "from pinecone import Pinecone as PineconeClient #Importing the Pinecone class from the pinecone package\n",
    "from langchain_community.vectorstores import Pinecone\n",
    "\n",
    "\n",
    "# Set your Pinecone API key\n",
    "# Recent changes by langchain team, expects \"\"PINECONE_API_KEY\" environment variable for Pinecone usage! So we are creating it here\n",
    "# we are setting the environment variable \"PINECONE_API_KEY\" to the value and in the next step retrieving it :)\n",
    "os.environ[\"PINECONE_API_KEY\"] = \"xxxxxxxxxxxxxxxxxxxxxxxxxx\"\n",
    "PINECONE_API_KEY=os.getenv(\"‘PINECONE_API_KEY’\")\n",
    "\n",
    "# Initialize the Pinecone client\n",
    "PineconeClient(api_key=PINECONE_API_KEY, environment=\"gcp-starter\")\n",
    "index_name=\"mcqcreator\"\n",
    "index = Pinecone.from_documents(docs, embeddings, index_name=index_name)\n"
   ]
  },
  {
   "cell_type": "markdown",
   "id": "76d84861",
   "metadata": {},
   "source": [
    "## Retrieve Answers"
   ]
  },
  {
   "cell_type": "code",
   "execution_count": 25,
   "id": "f46834ca",
   "metadata": {},
   "outputs": [],
   "source": [
    "#This function will help us in fetching the top relevent documents from our vector store - Pinecone\n",
    "def get_similiar_docs(query, k=2):\n",
    "    similar_docs = index.similarity_search(query, k=k)\n",
    "    return similar_docs"
   ]
  },
  {
   "cell_type": "markdown",
   "id": "b458a0b1",
   "metadata": {},
   "source": [
    "<font color='green'>\n",
    "'load_qa_chain' Loads a chain that you can use to do QA over a set of documents.<br>\n",
    "    And we will be using Huggingface for the reasoning purpose\n",
    "<font"
   ]
  },
  {
   "cell_type": "code",
   "execution_count": 26,
   "id": "4923071d",
   "metadata": {},
   "outputs": [],
   "source": [
    "from langchain.chains.question_answering import load_qa_chain\n",
    "\n",
    "#from langchain.llms import HuggingFaceHub\n",
    "#The above have been updated recently, so going forward we have to use the below :)\n",
    "\n",
    "from langchain.llms import HuggingFaceEndpoint"
   ]
  },
  {
   "cell_type": "markdown",
   "id": "ac5bb574",
   "metadata": {},
   "source": [
    "<font color='green'>\n",
    "BigScience Large Open-science Open-access Multilingual Language Model (BLOOM) is a transformer-based large language model.<br> <br>It was created by over 1000 AI researchers to provide a free large language model for everyone who wants to try. Trained on around 366 billion tokens over March through July 2022, it is considered an alternative to OpenAI's GPT-3 with its 176 billion parameters.\n",
    "<font>"
   ]
  },
  {
   "cell_type": "code",
   "execution_count": 16,
   "id": "d4385ada",
   "metadata": {},
   "outputs": [
    {
     "name": "stdout",
     "output_type": "stream",
     "text": [
      "Token has not been saved to git credential helper. Pass `add_to_git_credential=True` if you want to set the git credential as well.\n",
      "Token is valid (permission: read).\n",
      "Your token has been saved to C:\\Users\\User\\.cache\\huggingface\\token\n",
      "Login successful\n"
     ]
    }
   ],
   "source": [
    "#The earlier mentioned 'HuggingFaceHub' class has been depreciated, so please use the below class'HuggingFaceEndpoint' \n",
    "#and the below mentioned model outperforms most of the available open source LLMs\n",
    "\n",
    "#llm = HuggingFaceEndpoint(repo_id=\"mistralai/Mistral-7B-Instruct-v0.2\") # Model link : https://huggingface.co/mistralai/Mistral-7B-Instruct-v0.2\n",
    "#llm"
   ]
  },
  {
   "cell_type": "code",
   "execution_count": 27,
   "id": "25a81d6e",
   "metadata": {},
   "outputs": [],
   "source": [
    "llm = OpenAI()"
   ]
  },
  {
   "cell_type": "markdown",
   "id": "fe21fc1a",
   "metadata": {},
   "source": [
    "<font color='green'>\n",
    "Different Types Of Chain_Type:<br><br>\n",
    "\"map_reduce\": It divides the texts into batches, processes each batch separately with the question, and combines the answers to provide the final answer.<br>\n",
    "\"refine\": It divides the texts into batches and refines the answer by sequentially processing each batch with the previous answer.<br>\n",
    "\"map-rerank\": It divides the texts into batches, evaluates the quality of each answer from LLM, and selects the highest-scoring answers from the batches to generate the final answer. These alternatives help handle token limitations and improve the effectiveness of the question-answering process.\n",
    "<font"
   ]
  },
  {
   "cell_type": "code",
   "execution_count": 28,
   "id": "71d37723",
   "metadata": {},
   "outputs": [],
   "source": [
    "chain = load_qa_chain(llm, chain_type=\"stuff\")"
   ]
  },
  {
   "cell_type": "code",
   "execution_count": 29,
   "id": "6eee957a",
   "metadata": {},
   "outputs": [],
   "source": [
    "#This function will help us get the answer to the question that we raise\n",
    "def get_answer(query):\n",
    "  relevant_docs = get_similiar_docs(query)\n",
    "  print(relevant_docs)\n",
    "  response = chain.run(input_documents=relevant_docs, question=query)\n",
    "  return response"
   ]
  },
  {
   "cell_type": "markdown",
   "id": "c3c22b2c",
   "metadata": {},
   "source": [
    "<font color='green'>\n",
    "Let's pass our question to the above created function\n",
    "<font"
   ]
  },
  {
   "cell_type": "code",
   "execution_count": 30,
   "id": "d9274da2",
   "metadata": {
    "scrolled": true
   },
   "outputs": [
    {
     "name": "stdout",
     "output_type": "stream",
     "text": [
      "[Document(page_content='However, India also faces various socio-economic challenges. Poverty, income inequality, and \\nunemployment are persistent issues that the country strives to address. Efforts are being made\\nto improve education, healthcare, infrastructure, and social welfare programs to uplift \\nmarginalized sections of society.\\nEducation plays a vital role in India, with a strong emphasis on academic excellence. The \\ncountry has a vast network of schools, colleges, and universities, producing a large number of \\ngraduates every year. Indian professionals have made significant contributions in various fields \\nglobally, particularly in science, technology, engineering, and mathematics (STEM).\\nThe Indian film industry, popularly known as Bollywood, is a global phenomenon, producing the\\nlargest number of films annually. Indian cinema reflects the diversity and cultural richness of \\nthe country and has a massive following both within India and among the Indian diaspora \\nworldwide.', metadata={'page': 0.0, 'source': 'Docs\\\\Doc 2.pdf'}), Document(page_content=\"India's struggle for independence from British colonial rule is a significant chapter in its history. \\nLed by Mahatma Gandhi and other freedom fighters, the non-violent resistance movement \\ngained momentum and eventually led to India's independence on August 15, 1947. This day is \\ncelebrated annually as Independence Day.\\nIndia's economy is one of the fastest-growing in the world. It has transitioned from an agrarian \\neconomy to a service-oriented and industrialized economy. The country is known for its \\nsoftware and information technology services, pharmaceuticals, textiles, agriculture, and \\nmanufacturing sectors. Major cities like Mumbai, Delhi, Bangalore, and Chennai are hubs of \\nbusiness and commerce, attracting investments and fostering innovation.\\nDelhi is the capital of India\", metadata={'page': 0.0, 'source': 'Docs\\\\Doc 1.pdf'})]\n"
     ]
    },
    {
     "name": "stderr",
     "output_type": "stream",
     "text": [
      "c:\\Users\\janio\\anaconda3\\Lib\\site-packages\\langchain_core\\_api\\deprecation.py:117: LangChainDeprecationWarning: The function `run` was deprecated in LangChain 0.1.0 and will be removed in 0.2.0. Use invoke instead.\n",
      "  warn_deprecated(\n"
     ]
    },
    {
     "name": "stdout",
     "output_type": "stream",
     "text": [
      " India's economy is one of the fastest-growing in the world, transitioning from an agrarian economy to a service-oriented and industrialized economy. The country is known for its software and information technology services, pharmaceuticals, textiles, agriculture, and manufacturing sectors.\n"
     ]
    }
   ],
   "source": [
    "our_query = \"How is India's economy?\"\n",
    "answer = get_answer(our_query)\n",
    "print(answer)"
   ]
  },
  {
   "cell_type": "markdown",
   "id": "6adf2ccd",
   "metadata": {},
   "source": [
    "## Structure the Output"
   ]
  },
  {
   "cell_type": "code",
   "execution_count": 31,
   "id": "9f5bce3a",
   "metadata": {},
   "outputs": [],
   "source": [
    "import re\n",
    "import json"
   ]
  },
  {
   "cell_type": "code",
   "execution_count": 32,
   "id": "2559478b",
   "metadata": {},
   "outputs": [],
   "source": [
    "from langchain.chat_models import ChatOpenAI #this below has been replaced by the below import\n",
    "from langchain_openai import ChatOpenAI\n",
    "from langchain.schema import HumanMessage\n",
    "from langchain.prompts import PromptTemplate, ChatPromptTemplate, HumanMessagePromptTemplate\n",
    "from langchain.output_parsers import StructuredOutputParser, ResponseSchema"
   ]
  },
  {
   "cell_type": "code",
   "execution_count": 33,
   "id": "d309c532",
   "metadata": {},
   "outputs": [
    {
     "data": {
      "text/plain": [
       "StructuredOutputParser(response_schemas=[ResponseSchema(name='question', description='Question generated from provided input text data.', type='string'), ResponseSchema(name='choices', description='Available options for a multiple-choice question in comma separated.', type='string'), ResponseSchema(name='answer', description='Correct answer for the asked question.', type='string')])"
      ]
     },
     "execution_count": 33,
     "metadata": {},
     "output_type": "execute_result"
    }
   ],
   "source": [
    "response_schemas = [\n",
    "    ResponseSchema(name=\"question\", description=\"Question generated from provided input text data.\"),\n",
    "    ResponseSchema(name=\"choices\", description=\"Available options for a multiple-choice question in comma separated.\"),\n",
    "    ResponseSchema(name=\"answer\", description=\"Correct answer for the asked question.\")\n",
    "]\n",
    "\n",
    "output_parser = StructuredOutputParser.from_response_schemas(response_schemas)\n",
    "output_parser"
   ]
  },
  {
   "cell_type": "code",
   "execution_count": 34,
   "id": "32b73a3d",
   "metadata": {},
   "outputs": [
    {
     "name": "stdout",
     "output_type": "stream",
     "text": [
      "The output should be a markdown code snippet formatted in the following schema, including the leading and trailing \"```json\" and \"```\":\n",
      "\n",
      "```json\n",
      "{\n",
      "\t\"question\": string  // Question generated from provided input text data.\n",
      "\t\"choices\": string  // Available options for a multiple-choice question in comma separated.\n",
      "\t\"answer\": string  // Correct answer for the asked question.\n",
      "}\n",
      "```\n"
     ]
    }
   ],
   "source": [
    "# This helps us fetch the instructions the langchain creates to fetch the response in desired format\n",
    "format_instructions = output_parser.get_format_instructions()\n",
    " \n",
    "print(format_instructions)"
   ]
  },
  {
   "cell_type": "code",
   "execution_count": 35,
   "id": "2740a1fd",
   "metadata": {},
   "outputs": [],
   "source": [
    "# create ChatGPT object\n",
    "chat_model = ChatOpenAI()"
   ]
  },
  {
   "cell_type": "code",
   "execution_count": 36,
   "id": "b41f0637",
   "metadata": {},
   "outputs": [
    {
     "data": {
      "text/plain": [
       "ChatOpenAI(client=<openai.resources.chat.completions.Completions object at 0x0000013A087F77D0>, async_client=<openai.resources.chat.completions.AsyncCompletions object at 0x0000013A087D9E50>, openai_api_key=SecretStr('**********'), openai_proxy='')"
      ]
     },
     "execution_count": 36,
     "metadata": {},
     "output_type": "execute_result"
    }
   ],
   "source": [
    "chat_model"
   ]
  },
  {
   "cell_type": "markdown",
   "id": "95c77a73",
   "metadata": {},
   "source": [
    "<font color='green'>\n",
    "The below snippet will give out a string that contains instructions for how the response should be formatted, and we then insert that into our prompt.\n",
    "<font>"
   ]
  },
  {
   "cell_type": "code",
   "execution_count": 37,
   "id": "56b47e84",
   "metadata": {},
   "outputs": [],
   "source": [
    "prompt = ChatPromptTemplate(\n",
    "    messages=[\n",
    "        HumanMessagePromptTemplate.from_template(\"\"\"When a text input is given by the user, please generate multiple choice questions \n",
    "        from it along with the correct answer. \n",
    "        \\n{format_instructions}\\n{user_prompt}\"\"\")  \n",
    "    ],\n",
    "    input_variables=[\"user_prompt\"],\n",
    "    partial_variables={\"format_instructions\": format_instructions}\n",
    ")"
   ]
  },
  {
   "cell_type": "code",
   "execution_count": 38,
   "id": "ca797627",
   "metadata": {},
   "outputs": [
    {
     "name": "stdout",
     "output_type": "stream",
     "text": [
      "messages=[HumanMessage(content='When a text input is given by the user, please generate multiple choice questions \\n        from it along with the correct answer. \\n        \\nThe output should be a markdown code snippet formatted in the following schema, including the leading and trailing \"```json\" and \"```\":\\n\\n```json\\n{\\n\\t\"question\": string  // Question generated from provided input text data.\\n\\t\"choices\": string  // Available options for a multiple-choice question in comma separated.\\n\\t\"answer\": string  // Correct answer for the asked question.\\n}\\n```\\n India\\'s economy is one of the fastest-growing in the world, transitioning from an agrarian economy to a service-oriented and industrialized economy. The country is known for its software and information technology services, pharmaceuticals, textiles, agriculture, and manufacturing sectors.')]\n"
     ]
    }
   ],
   "source": [
    "final_query = prompt.format_prompt(user_prompt = answer)\n",
    "print(final_query)"
   ]
  },
  {
   "cell_type": "code",
   "execution_count": 39,
   "id": "2ed162b9",
   "metadata": {},
   "outputs": [
    {
     "data": {
      "text/plain": [
       "[HumanMessage(content='When a text input is given by the user, please generate multiple choice questions \\n        from it along with the correct answer. \\n        \\nThe output should be a markdown code snippet formatted in the following schema, including the leading and trailing \"```json\" and \"```\":\\n\\n```json\\n{\\n\\t\"question\": string  // Question generated from provided input text data.\\n\\t\"choices\": string  // Available options for a multiple-choice question in comma separated.\\n\\t\"answer\": string  // Correct answer for the asked question.\\n}\\n```\\n India\\'s economy is one of the fastest-growing in the world, transitioning from an agrarian economy to a service-oriented and industrialized economy. The country is known for its software and information technology services, pharmaceuticals, textiles, agriculture, and manufacturing sectors.')]"
      ]
     },
     "execution_count": 39,
     "metadata": {},
     "output_type": "execute_result"
    }
   ],
   "source": [
    "final_query.to_messages()"
   ]
  },
  {
   "cell_type": "code",
   "execution_count": 40,
   "id": "99f7ca80",
   "metadata": {},
   "outputs": [
    {
     "name": "stdout",
     "output_type": "stream",
     "text": [
      "```json\n",
      "{\n",
      "\t\"question\": \"What is India known for in terms of its economy?\",\n",
      "\t\"choices\": \"Software and information technology services, Pharmaceuticals, Textiles, Agriculture, Manufacturing sectors\",\n",
      "\t\"answer\": \"Software and information technology services, Pharmaceuticals, Textiles, Agriculture, Manufacturing sectors\"\n",
      "}\n",
      "```\n"
     ]
    }
   ],
   "source": [
    "final_query_output = chat_model.invoke(final_query.to_messages())\n",
    "print(final_query_output.content)"
   ]
  },
  {
   "cell_type": "markdown",
   "id": "1b7f64a5",
   "metadata": {},
   "source": [
    "<font color='green'>\n",
    "While working with scenarios like above where we have to process multi-line strings(separated by newline characters – ‘\\n’). In such situations, we use re.DOTALL.\n",
    "<font>"
   ]
  },
  {
   "cell_type": "code",
   "execution_count": 41,
   "id": "11def92b",
   "metadata": {},
   "outputs": [],
   "source": [
    "# Let's extract JSON data from Markdown text that we have\n",
    "markdown_text = final_query_output.content\n",
    "json_string = re.search(r'{(.*?)}', markdown_text, re.DOTALL).group(1)"
   ]
  },
  {
   "cell_type": "code",
   "execution_count": 42,
   "id": "d4db4592",
   "metadata": {},
   "outputs": [
    {
     "name": "stdout",
     "output_type": "stream",
     "text": [
      "\n",
      "\t\"question\": \"What is India known for in terms of its economy?\",\n",
      "\t\"choices\": \"Software and information technology services, Pharmaceuticals, Textiles, Agriculture, Manufacturing sectors\",\n",
      "\t\"answer\": \"Software and information technology services, Pharmaceuticals, Textiles, Agriculture, Manufacturing sectors\"\n",
      "\n"
     ]
    }
   ],
   "source": [
    "print(json_string)"
   ]
  }
 ],
 "metadata": {
  "kernelspec": {
   "display_name": "Python 3 (ipykernel)",
   "language": "python",
   "name": "python3"
  },
  "language_info": {
   "codemirror_mode": {
    "name": "ipython",
    "version": 3
   },
   "file_extension": ".py",
   "mimetype": "text/x-python",
   "name": "python",
   "nbconvert_exporter": "python",
   "pygments_lexer": "ipython3",
   "version": "3.11.7"
  }
 },
 "nbformat": 4,
 "nbformat_minor": 5
}
